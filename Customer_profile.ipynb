{
 "cells": [
  {
   "cell_type": "markdown",
   "metadata": {
    "id": "RvJ678gTsJ5c"
   },
   "source": [
    "### This file is used to create a normalized vector for all customers from a csv containing orders. The vector represents that customers preference in cuisines/food types\n",
    "\n",
    "##### Input: Csv file containing skip the dishes orders (with customer_id, restaraunt_id and itemlist). Csv file containing restaraunt cuisines, created from AssignRestarauntCuisines.ipynb\n",
    "##### Output: Csv file where each row is a specific customers preference for food, one column being the customers id and the rest being the preference for a specific cuisine from 0.0-1.0. Row is normalized so it adds up to 1.0."
   ]
  },
  {
   "cell_type": "code",
   "execution_count": 1,
   "metadata": {
    "id": "IbvG0IdHg4bE"
   },
   "outputs": [],
   "source": [
    "import pandas as pd \n",
    "import numpy as np \n",
    "import math"
   ]
  },
  {
   "cell_type": "code",
   "execution_count": 2,
   "metadata": {
    "id": "55PkPFnLiXDz"
   },
   "outputs": [],
   "source": [
    "# df is order csv\n",
    "df = pd.read_csv(\"./from_skip_files/orders_3.5mil.csv\")\n",
    "# rf is restaraunt cuisines. \n",
    "rf = pd.read_csv('./derived_files/Cuisine_Restaraunt.csv')"
   ]
  },
  {
   "cell_type": "code",
   "execution_count": 3,
   "metadata": {
    "colab": {
     "base_uri": "https://localhost:8080/",
     "height": 629
    },
    "id": "u0TzsFfqs4IK",
    "outputId": "02ee0066-0862-40e7-a782-cd2abb87f831"
   },
   "outputs": [
    {
     "name": "stdout",
     "output_type": "stream",
     "text": [
      "(3500000, 13)\n"
     ]
    }
   ],
   "source": [
    "print(df.shape)"
   ]
  },
  {
   "cell_type": "code",
   "execution_count": 4,
   "metadata": {
    "id": "3wXsxaiNsJ5f"
   },
   "outputs": [],
   "source": [
    "# List of ethnic or cultural cuisines\n",
    "# Plus convenience\n",
    "ethnic_or_cultural_items = [\n",
    "    \"Convenience\",\n",
    "    \"Indian\",\n",
    "    \"Italian\",\n",
    "    \"Chinese\",\n",
    "    \"Vietnamese\",\n",
    "    \"Japanese\",\n",
    "    \"Mediterranean\",\n",
    "    \"Middle Eastern\",\n",
    "    \"Mexican\",\n",
    "    \"Korean\",\n",
    "    \"Thai\",\n",
    "    \"French\",\n",
    "    \"African\",\n",
    "    \"Latin American\",\n",
    "    \"Ethiopian\",\n",
    "    \"Caribbean\",\n",
    "    \"Filipino\",\n",
    "    \"Spanish\",\n",
    "    \"German\",\n",
    "]"
   ]
  },
  {
   "cell_type": "code",
   "execution_count": 5,
   "metadata": {
    "colab": {
     "base_uri": "https://localhost:8080/"
    },
    "id": "umbe8Spfi2qK",
    "outputId": "99c153dd-7575-45c2-e018-b73c869ae9cc"
   },
   "outputs": [
    {
     "name": "stdout",
     "output_type": "stream",
     "text": [
      "54\n"
     ]
    }
   ],
   "source": [
    "# Map of cuisine type to keywords that fit under that cuisine\n",
    "cuisine_map = {\n",
    "    \"Chicken\" : [\"chicken\"],\n",
    "    \"Fries\" : [\"fries\"],\n",
    "    \"Beef\" : [\"beef\"],\n",
    "    \"Pork\" : [\"pork\", \"bacon\", \"pepperoni\"],\n",
    "    \"Rice\" : [\"rice\"],\n",
    "    \"Lamb\" : [\"lamb\"],\n",
    "    \"Vegetarian\" : [\"vegan\", \"vegetarian\", \"veggie\", \"beyond meat\"],\n",
    "    \"Sandwiches & Subs\" : [\"sandwich\", \"sub\", \"wrap\", \"blt\"],\n",
    "    \"Desserts\" : [\"blizzard\", \"ice cream\", \"frozen\", \"dessert\", \"chocolate\", \"drizzle\", \"desserts\", \"milkshake\", \"candy\", \n",
    "                  \"candies\", \"sundae\", \"oreo\", \"skor\", \"brownie\", \"shake\", \"tiramisu\", \"timbits\", \"ben and jerry\", \n",
    "                  \"cheesecake\", \"cookie\"],\n",
    "    \"Canadian\" : [\"canadian\", \"canadien\", \"alberta\",\"poutine\"],\n",
    "    \"Fast food\" : [\"fast food\",\"combo\", \"meal\"],\n",
    "    \"Burgers\" : [\"burger\", \"patty\", \"mcdouble\", \"big mac\", \"quarter pounder\"],\n",
    "    \"Seafood\" : [\"fish\", \"seafood\", \"shrimp\", \"crab\", \"lobster\", \"prawn\", \"seaweed\", \n",
    "                 \"salmon\", \"tuna\", \"poke\", \"calamari\", \"squid\", \"fish and chips\"],\n",
    "    \"Healthy\" : [\"organic\", \"health\", \"protein\", \"salad\", \"fresh\", \"tofu\",  \"fruit\", \"water\", \"vegetable\", \"smoothie\", \"parfait\"],\n",
    "    \"Pizza\" : [\"pizza\"],\n",
    "    \"Breakfast & Brunch\" : [\"egg\", \"toast\", \"benedict\", \"breakfast\", \"brunch\", \"cereal\", \"pancake\", \"waffle\", \"hash brown\"],\n",
    "    \"Coffee/Tea\" : [\"coffee\", \"tea\", \"americano\", \"cappuccino\", \"latte\", \"cafe\", \"chai\", \"london fog\"],\n",
    "    \"Alcohol\" : [\"beer\", \"wine\", \"liquor\", \"budweiser\", \"bud light\", \"spirits\", \"corona\", \"stella artois\", \n",
    "                 \"michelob ultra\", \"mike's hard\", \"labatt\", \"sauvignon\", \"smirnoff\", \"vodka\", \"whisky\", \"cognac\",\n",
    "                 \"white claw\", \"pinot noir\"],\n",
    "    \"Noodles\" : [\"noodle\", \"vermicelli\"],\n",
    "    \"Pub food\" : [\"wing\", \"onion ring\", \"wedge\", \"mac & cheese\", \"mac and cheese\", \"gravy\", \"mashed potato\", \"breadsticks\"], \n",
    "    \"Indian\" : [\"indian\", \"naan\", \"nan\", \"samosa\", \"masala\", \"aloo\", \"paneer\", \"biryani\", \"tandoori\", \"roti\", \"tikka\"],\n",
    "    \"Italian\" : [\"italian\", \"pasta\", \"spaghetti\", \"penne\", \"fettuccini\", \"lasagna\", \"lasagne\", \"linguini\", \"ravioli\", \"tortellini\", \"meatball\", \"canoli\"],\n",
    "    \"Bakery\" : [\"danish\", \"cake\", \"bun\", \"donut\", \"muffin\",\"bagel\", \"doughnut\", \"pie\", \"scone\", \"rolls\", \"loaf\"],\n",
    "    \"Barbecue\" : [\"barbecue\", \"bbq\", \"grill\", \"buffalo\"],\n",
    "    \"Chinese\" : [\"chinese\", \"china\", \"hot pot\", \"wonton\", \"cantonese\", \"mein\", \"gyoza\"],\n",
    "    \"Vietnamese\" : [\"vietnamese\", \"pho\", \"viet\", \"bun cha\",\"ca kho to\"],\n",
    "    \"Japanese\" : [\"japanese\",\"japan\", \"ramen\", \"sashimi\", \"teriyaki\", \"katsu\", \"tempura\", \"edamame\", \"bento\", \"takoyaki\"],\n",
    "    \"Tacos\": [\"taco\"],\n",
    "    \"Sushi\" : [\"sushi\"],\n",
    "    \"Mediterranean\" : [\"mediterranean\",\"pita\", \"damascus\", \"greek\", \"greece\", \"briam\",\"taramasalata\", \"opa\"],\n",
    "    \"Hot Dogs & Sausages\" : [\"hot dogs\",\"sausage\", \"weiner\"],\n",
    "    \"Middle Eastern\" : [\"middle eastern\",\"falafel\", \"hummus\",\"shawarma\", \"baklava\", \"donair\", \"tzatziki\"],\n",
    "    \"Convenience\" : [\"convenience\",\"pre-made\",\"grocery\", \"slurpee\"],\n",
    "    \"Mexican\" : [\"mexican\", \"chilaquiles\", \"burrito\", \"nacho\", \"quesadilla\", \"queso\", \"taquito\", \"salsa\"],\n",
    "    \"Steakhouse\" : [\"steakhouse\", \"steak\"],\n",
    "    \"Halal\" : [\"halal\", \"zabiha\"],\n",
    "    \"Korean\" : [\"korean\", \"kimchi\", \"bulgogi\",\"bibimbap\",\"tteokbokki\",\"jjambbong\",\"doenjang\"],\n",
    "    \"Thai\" : [\"thai\", \"tom yum goong\", \"green curry\"],\n",
    "    \"Soup\" : [\"soup\"],\n",
    "    \"Gluten Free\" : [\"gluten free\", \"no gluten\"],\n",
    "    \"Popcorn\": [\"popcorn\"], \n",
    "    \"Pet Food\" : [\"pet\", \"dog\", \"cat\"],\n",
    "    \"Bubble Tea\" : [\"bubble tea\", \"boba\", \"milk tea\", \"taro milk\"],\n",
    "    \"French\" : [\"french\", \"francais\", \"crepe\", \"foie gras\",\"coq au vin\",\"cassoulet\",\"baguette\",\"croissant\",\"gougeres\",\"cajun & creole\", \"creole\"],\n",
    "    \"African\" : [\"african\",\"pap en vleis\", \"shisa nyama\",\"bunny chow\",\"koshari\"],\n",
    "    \"Latin American\" : [\"latin\",\"asado\",\"saltena\",\"feijoada\",\"empanada\",\"bandeja paisa\",\n",
    "                        \"gallo pinto\",\"ropa vieja\",\"mangu\",\"encebollado\", \"pupusas\",\"pepian\",\"peruvian\"],\n",
    "    \"Haute Cuisine\" : [\"haute\", \"high class\", \"expensive\", \"champagne\"],\n",
    "    \"Ethiopian\" : [\"ethiopian\",\"tibs\",\"kitfo\",\"beyainatu\",\"fuul\"],\n",
    "    \"Caribbean\" : [\"caribbean\", \"jamaica\",\"barbados\",\"bahamas\"],\n",
    "    \"Filipino\" : [\"filipino\",\"adobo\",\"lechon\",\"sisig\",\"bulalo\"],\n",
    "    \"Spanish\" : [\"spanish\",\"paella valenciana\",\"patatas bravas\",\"gazpacho\",\"pimientos de padron\",\"jamon\",\"tapas\",\"churro\"],\n",
    "    \"Butcher\" : [\"raw\", \"butcher\",\"delicatessen\"],\n",
    "    \"Kosher\" : [\"kosher\", 'kashrut', 'jewish'],\n",
    "    \"German\" : [\"german\",\"schnitzel\",\"rouladen\",\"eintopf\",\"sauerbraten\"]\n",
    "}\n",
    "print(len(list(cuisine_map.keys())))"
   ]
  },
  {
   "cell_type": "code",
   "execution_count": 6,
   "metadata": {
    "id": "q86_w2RpsJ5h"
   },
   "outputs": [],
   "source": [
    "# Checks for any repeats in value lists accross cuisine types in the map above\n",
    "freq = {}\n",
    "for key in cuisine_map.keys():\n",
    "    for food in cuisine_map[key]:\n",
    "        if food in freq:\n",
    "            freq[food] += 1    \n",
    "        else:\n",
    "            freq[food] = 1\n",
    "for key in freq.keys():\n",
    "    if freq[key] > 1:\n",
    "        print(key)"
   ]
  },
  {
   "cell_type": "code",
   "execution_count": 7,
   "metadata": {
    "id": "y_8A9yg062RI"
   },
   "outputs": [],
   "source": [
    "# # Calculates the amount of items that the cusine map catches\n",
    "# hit = 0\n",
    "# all = 0\n",
    "# test = []\n",
    "# test2 = []\n",
    "# def f(x, y):\n",
    "#   global hit, all\n",
    "#   ret_val = False\n",
    "#   res = isinstance(x, str)\n",
    "#   if not res:\n",
    "#     print(x)\n",
    "#     return False\n",
    "#   items = x.split(\", \")\n",
    "#   any_items_found = False\n",
    "#   for item in items:\n",
    "#     item_found = False\n",
    "#     all +=1\n",
    "#     temp_item = item.lower()\n",
    "#     flag = False\n",
    "#     for key in cuisine_map:\n",
    "#       if flag: \n",
    "#         break\n",
    "#       for food in cuisine_map[key]:\n",
    "#         if food in temp_item:\n",
    "#           hit += 1\n",
    "#           ret_val = True\n",
    "#           any_items_found = True\n",
    "#           flag = True\n",
    "#           item_found = True\n",
    "#           break\n",
    "#     if not item_found:\n",
    "#       test.append(temp_item)\n",
    "#       test2.append(y) \n",
    "#           # return True\n",
    "#   # if not any_items_found:\n",
    "#   #   r_name = y.lower()\n",
    "#   #   flag = False\n",
    "#   #   for key in cuisine_map:\n",
    "#   #     if flag:\n",
    "#   #       break\n",
    "#   #     for food in cuisine_map[key]:\n",
    "#   #       if food in r_name:\n",
    "#   #         hit +=1 \n",
    "#   #         flag = True\n",
    "#   #         ret_val = True\n",
    "#   #         break\n",
    "#   return ret_val\n",
    "\n",
    "# result = [f(x,y) for x,y in zip(df['item_list'],df['restaurant_short_name'])]\n",
    "# print(sum(result))\n",
    "# print(len(result))\n",
    "# print(hit)\n",
    "# print(all)\n",
    "# print(hit/all*100)"
   ]
  },
  {
   "cell_type": "code",
   "execution_count": 8,
   "metadata": {
    "colab": {
     "base_uri": "https://localhost:8080/"
    },
    "id": "QqVOF59ZsJ5i",
    "outputId": "fe134383-d424-4cd4-f865-d141cacb2480"
   },
   "outputs": [
    {
     "name": "stdout",
     "output_type": "stream",
     "text": [
      "count    107828.000000\n",
      "mean         32.459102\n",
      "std          73.573687\n",
      "min           1.000000\n",
      "25%           1.000000\n",
      "50%           5.000000\n",
      "75%          28.000000\n",
      "max        2069.000000\n",
      "Name: customer_id, dtype: float64\n",
      "(42096,)\n"
     ]
    }
   ],
   "source": [
    "print(df['customer_id'].value_counts().describe())\n",
    "orders_by_customer = df.groupby('customer_id').size().reset_index(name='order_count')\n",
    "customers_with_many_orders = orders_by_customer[orders_by_customer['order_count'] > 10]\n",
    "print(customers_with_many_orders['customer_id'].shape)\n"
   ]
  },
  {
   "cell_type": "code",
   "execution_count": 9,
   "metadata": {
    "id": "kLnQpn2SssX_"
   },
   "outputs": [],
   "source": [
    "import datetime\n",
    "import pytz\n",
    "import dateutil.parser\n",
    "\n",
    "#This function takes in the order date, and returns weight based on the recency of the order\n",
    "#Under 3 months it has weight of 1\n",
    "#Between 3 months to 6 months, it has weight between 1 to 0.7\n",
    "#Between 6 months to 12 months, it has weight between 0.7 to 0.3\n",
    "#Between 24 months to 12 months, it has weight between 0.3 to 0.0\n",
    "#After 24 months the weight is 0, meaning we don't consider orders after 2 years from now\n",
    "\n",
    "def get_order_weight(order_date_str):\n",
    "    order_date = dateutil.parser.parse(order_date_str)\n",
    "    delta = datetime.datetime.now(pytz.utc) - order_date\n",
    "    days_since_order = delta.days\n",
    "    weight_0to3months = 1\n",
    "    weight_3to6months = 0.7\n",
    "    weight_6to12months = 0.3\n",
    "    weight_12to24months = 0.2\n",
    "    if days_since_order < 90:\n",
    "        return weight_0to3months\n",
    "    elif days_since_order < 180:\n",
    "        slope = (weight_3to6months - weight_0to3months) / (180 - 90)\n",
    "        return 1.0 + slope * (days_since_order - 90)\n",
    "    elif days_since_order < 365:\n",
    "        slope = (weight_6to12months - weight_3to6months) / (365 - 180)\n",
    "        return 0.7 + slope * (days_since_order - 180)\n",
    "    elif days_since_order < 730:\n",
    "        slope = (weight_12to24months - weight_6to12months) / (730 - 365)\n",
    "        return 0.3 + slope * (days_since_order - 365)\n",
    "    else:\n",
    "        return 0.1"
   ]
  },
  {
   "cell_type": "code",
   "execution_count": 12,
   "metadata": {
    "colab": {
     "base_uri": "https://localhost:8080/",
     "height": 371
    },
    "id": "6T-YQfwyVNHh",
    "outputId": "b2740a9b-36ea-419a-d858-5a8a05ef9d9c",
    "scrolled": false
   },
   "outputs": [
    {
     "name": "stdout",
     "output_type": "stream",
     "text": [
      "0.04638218923933209\n",
      "67\n",
      "0.09276437847866419\n",
      "141\n",
      "0.1391465677179963\n",
      "203\n",
      "0.18552875695732837\n",
      "277\n",
      "0.23191094619666047\n",
      "342\n",
      "0.2782931354359926\n",
      "423\n",
      "0.3246753246753247\n",
      "501\n",
      "0.37105751391465674\n",
      "567\n",
      "0.4174397031539889\n",
      "613\n",
      "0.46382189239332094\n",
      "694\n",
      "0.5102040816326531\n",
      "756\n",
      "0.5565862708719852\n",
      "827\n",
      "0.6029684601113172\n",
      "909\n",
      "0.6493506493506493\n",
      "978\n",
      "0.6957328385899815\n",
      "1043\n",
      "0.7421150278293135\n",
      "1108\n",
      "0.7884972170686456\n",
      "1177\n",
      "0.8348794063079777\n",
      "1269\n",
      "0.8812615955473099\n",
      "1344\n",
      "0.9276437847866419\n",
      "1424\n",
      "0.974025974025974\n",
      "1501\n"
     ]
    },
    {
     "data": {
      "text/html": [
       "<div>\n",
       "<style scoped>\n",
       "    .dataframe tbody tr th:only-of-type {\n",
       "        vertical-align: middle;\n",
       "    }\n",
       "\n",
       "    .dataframe tbody tr th {\n",
       "        vertical-align: top;\n",
       "    }\n",
       "\n",
       "    .dataframe thead th {\n",
       "        text-align: right;\n",
       "    }\n",
       "</style>\n",
       "<table border=\"1\" class=\"dataframe\">\n",
       "  <thead>\n",
       "    <tr style=\"text-align: right;\">\n",
       "      <th></th>\n",
       "    </tr>\n",
       "  </thead>\n",
       "  <tbody>\n",
       "  </tbody>\n",
       "</table>\n",
       "</div>"
      ],
      "text/plain": [
       "Empty DataFrame\n",
       "Columns: []\n",
       "Index: []"
      ]
     },
     "execution_count": 12,
     "metadata": {},
     "output_type": "execute_result"
    }
   ],
   "source": [
    "# Main method that counts frequency of cuisine types occuring in users order history and uses that\n",
    "# as a metric to calculate their preference by dividing that specific cuisine by total cuisines\n",
    "# if a user orders an item that has the word \"chicken\" in it 3 times and had 20 items total their\n",
    "# prefence for chicken would be 3/20 or 0.15.\n",
    "#Instead of doing cuisine + 1, for every cuisine matched, this code now does cuisine + weight. With weight, it will\n",
    "#It will now take into account of the recency of the order\n",
    "overall_cuisine = dict(zip(cuisine_map.keys(), [0] * 80))\n",
    "grouped = df.groupby('customer_id')\n",
    "customer_profile_list = []\n",
    "miss = 0\n",
    "def process_group(group):\n",
    "    global overall_cuisine\n",
    "    global miss \n",
    "    customer_profile = dict(zip(cuisine_map.keys(), [0] * 80))\n",
    "    total_filtered = 0\n",
    "    for index, row in group.iterrows():\n",
    "        items = row['item_list'].split(\", \")\n",
    "        order_date =  row['created_time']\n",
    "        weight = get_order_weight(order_date)\n",
    "        any_items_found = False\n",
    "        for item in items:\n",
    "            lower_item = item.lower()\n",
    "            cuisine_identified_item = False\n",
    "            for key in cuisine_map:\n",
    "                for cuisine in cuisine_map[key]:\n",
    "                    if cuisine in lower_item:    \n",
    "                        if key in ethnic_or_cultural_items:\n",
    "                            cuisine_identified_item = True  \n",
    "                        customer_profile[key] += weight\n",
    "                        overall_cuisine[key] += weight\n",
    "                        total_filtered += weight\n",
    "                        any_items_found = True\n",
    "                        break\n",
    "            if not cuisine_identified_item:\n",
    "                restaraunt_cuisines_df = rf[rf['short_name'] == row['restaurant_short_name']]['cussine_list']\n",
    "                if restaraunt_cuisines_df.shape[0] > 0:\n",
    "                    restaraunt_cuisines_list = restaraunt_cuisines_df.str.split(\", \")\n",
    "                    restaraunt_cuisines = restaraunt_cuisines_list.iloc[0]\n",
    "                    for cuisine in restaraunt_cuisines:\n",
    "                        customer_profile[cuisine] +=weight \n",
    "                        overall_cuisine[cuisine] +=weight\n",
    "                        total_filtered += weight\n",
    "    map_total_filtered = 0\n",
    "    for value in customer_profile.values():\n",
    "        map_total_filtered += value\n",
    "    if math.isclose(total_filtered, map_total_filtered, abs_tol=0.003) and total_filtered != 0:\n",
    "        for key in customer_profile:\n",
    "            customer_profile[key] = customer_profile[key]/total_filtered\n",
    "        customer_profile['customer_id'] = group.name\n",
    "        customer_profile_list.append(customer_profile)\n",
    "    else:\n",
    "        miss += 1\n",
    "#         print(map_total_filtered, \" \", total_filtered)\n",
    "#         print(\"missed customer: \", group.name)\n",
    "    if len(customer_profile_list) % 5000 == 0:\n",
    "        print(len(customer_profile_list)/107800) \n",
    "        print(miss)\n",
    "\n",
    "\n",
    "grouped.apply(process_group)"
   ]
  },
  {
   "cell_type": "code",
   "execution_count": 13,
   "metadata": {
    "colab": {
     "base_uri": "https://localhost:8080/"
    },
    "id": "tpEjcR69sJ5j",
    "outputId": "8edbc766-fa9d-479e-bc20-ec843b11cc08"
   },
   "outputs": [
    {
     "name": "stdout",
     "output_type": "stream",
     "text": [
      "('Chicken', 449846.40652071993)\n",
      "('Fast food', 345028.4771926414)\n",
      "('Japanese', 305475.7541257607)\n",
      "('Burgers', 275867.6701847636)\n",
      "('Bakery', 250570.17622218424)\n",
      "('Sandwiches & Subs', 217261.64164852054)\n",
      "('Vietnamese', 177960.08990071583)\n",
      "('Pork', 175209.160357341)\n",
      "('Chinese', 166387.22696720387)\n",
      "('Italian', 156382.27137416598)\n",
      "('Desserts', 154925.72950070564)\n",
      "('Beef', 153665.2864314957)\n",
      "('Coffee/Tea', 147873.33181211248)\n",
      "('Indian', 139349.236964521)\n",
      "('Breakfast & Brunch', 137078.1542395359)\n",
      "('Healthy', 134270.1181911875)\n",
      "('Seafood', 128032.19303755386)\n",
      "('Pizza', 122388.85381002461)\n",
      "('Convenience', 117200.31610402772)\n",
      "('Fries', 103876.59630894964)\n",
      "('Mexican', 88674.64594479327)\n",
      "('Barbecue', 80289.1663470585)\n",
      "('Pub food', 76007.16387016559)\n",
      "('Noodles', 75411.24137479119)\n",
      "('Middle Eastern', 74653.97322471676)\n",
      "('Thai', 73454.1198963136)\n",
      "('Rice', 70841.4509292446)\n",
      "('Mediterranean', 66714.35968769962)\n",
      "('Soup', 52960.142977855154)\n",
      "('Korean', 45334.25581756343)\n",
      "('Canadian', 44532.39406018304)\n",
      "('Hot Dogs & Sausages', 40628.72681966568)\n",
      "('Butcher', 31174.248074765543)\n",
      "('Vegetarian', 29498.607045519137)\n",
      "('Alcohol', 25356.88878315695)\n",
      "('French', 24887.079241004758)\n",
      "('Steakhouse', 22429.128301858596)\n",
      "('Sushi', 19405.9549203989)\n",
      "('Tacos', 17359.426228560693)\n",
      "('Bubble Tea', 15155.859312603872)\n",
      "('Pet Food', 13823.59298531658)\n",
      "('Popcorn', 9384.095027769257)\n",
      "('Lamb', 7104.078994200727)\n",
      "('Latin American', 3686.2398876956545)\n",
      "('Spanish', 3638.918970751331)\n",
      "('Caribbean', 2189.0918881894645)\n",
      "('Filipino', 858.2049241021962)\n",
      "('Ethiopian', 712.634344070104)\n",
      "('African', 664.2407848944968)\n",
      "('Gluten Free', 573.9778711588319)\n",
      "('Halal', 379.89130075280946)\n",
      "('German', 168.4442774281123)\n",
      "('Haute Cuisine', 165.9749574231757)\n",
      "('Kosher', 87.28788473404914)\n"
     ]
    }
   ],
   "source": [
    "sorted_dict = sorted(overall_cuisine.items(), key=lambda x: x[1], reverse=True)\n",
    "for item in enumerate(sorted_dict):\n",
    "    print(item[1])"
   ]
  },
  {
   "cell_type": "code",
   "execution_count": 14,
   "metadata": {
    "colab": {
     "base_uri": "https://localhost:8080/"
    },
    "id": "M64h7mbFwK2v",
    "outputId": "7ae099ef-ac71-4c72-c109-2bdaf3af447a"
   },
   "outputs": [
    {
     "name": "stdout",
     "output_type": "stream",
     "text": [
      "107828\n",
      "106306\n"
     ]
    }
   ],
   "source": [
    "# Checks how many customers which the filter couldn't match any of their items so they have no \n",
    "# information on their preferences.\n",
    "customer_profile_df = pd.DataFrame(customer_profile_list)\n",
    "print(df['customer_id'].nunique())\n",
    "print(customer_profile_df['customer_id'].nunique())"
   ]
  },
  {
   "cell_type": "code",
   "execution_count": 15,
   "metadata": {
    "colab": {
     "base_uri": "https://localhost:8080/"
    },
    "id": "sHvOqXkF6lLV",
    "outputId": "7283be3d-8351-40f8-8ded-dcf32c444e5d"
   },
   "outputs": [
    {
     "name": "stdout",
     "output_type": "stream",
     "text": [
      "                                 customer_id  African   Alcohol    Bakery  \\\n",
      "0       0000000d-9a20-4580-85aa-f4ca9062388c      0.0  0.000000  0.026200   \n",
      "1       00000782-7adf-4924-a5d3-a2c24fef785d      0.0  0.000000  0.000000   \n",
      "2       0000267e-c83e-4a48-9776-8163eab97b6a      0.0  0.003465  0.104122   \n",
      "3       000034cf-8586-4214-8239-7a05453cff98      0.0  0.000000  0.069767   \n",
      "4       00004011-f1d0-42c2-8909-60d0e4620f7d      0.0  0.000000  0.000000   \n",
      "...                                      ...      ...       ...       ...   \n",
      "106301  1ee2d4da-a834-4064-a101-9f139d0bfbf5      0.0  0.003647  0.086415   \n",
      "106302  1ee2d643-15bc-45a0-bdc3-8c8d8aab2e1d      0.0  0.000000  1.000000   \n",
      "106303  1ee2dd88-1776-43da-9043-0591419f37ea      0.0  0.000000  0.142316   \n",
      "106304  1ee2f0e4-8f54-4a00-8fbc-57ad13431b12      0.0  0.166228  0.000000   \n",
      "106305  1ee2fa78-a89d-4783-8705-4f8f33eea1ba      0.0  0.000000  0.030170   \n",
      "\n",
      "        Barbecue      Beef  Breakfast & Brunch  Bubble Tea   Burgers  \\\n",
      "0       0.026200  0.052401            0.026200         0.0  0.000000   \n",
      "1       0.000000  0.000000            0.000000         0.0  0.000000   \n",
      "2       0.039443  0.008570            0.014179         0.0  0.020725   \n",
      "3       0.069767  0.139535            0.000000         0.0  0.023256   \n",
      "4       0.000000  0.181818            0.000000         0.0  0.000000   \n",
      "...          ...       ...                 ...         ...       ...   \n",
      "106301  0.000000  0.040921            0.148848         0.0  0.000000   \n",
      "106302  0.000000  0.000000            0.000000         0.0  0.000000   \n",
      "106303  0.065033  0.130067            0.000000         0.0  0.000000   \n",
      "106304  0.000000  0.083608            0.083059         0.0  0.000000   \n",
      "106305  0.007324  0.020435            0.003015         0.0  0.085878   \n",
      "\n",
      "         Butcher  ...  Sandwiches & Subs   Seafood      Soup  Spanish  \\\n",
      "0       0.000000  ...           0.104801  0.026200  0.026200      0.0   \n",
      "1       0.000000  ...           0.000000  0.000000  0.000000      0.0   \n",
      "2       0.002928  ...           0.032508  0.071368  0.030471      0.0   \n",
      "3       0.000000  ...           0.023256  0.046512  0.023256      0.0   \n",
      "4       0.000000  ...           0.000000  0.090909  0.000000      0.0   \n",
      "...          ...  ...                ...       ...       ...      ...   \n",
      "106301  0.000000  ...           0.007293  0.021880  0.003647      0.0   \n",
      "106302  0.000000  ...           0.000000  0.000000  0.000000      0.0   \n",
      "106303  0.000000  ...           0.000000  0.012249  0.052785      0.0   \n",
      "106304  0.000000  ...           0.083059  0.000000  0.083608      0.0   \n",
      "106305  0.000000  ...           0.027320  0.015213  0.014882      0.0   \n",
      "\n",
      "        Steakhouse     Sushi     Tacos      Thai  Vegetarian  Vietnamese  \n",
      "0         0.000000  0.078601  0.000000  0.000000    0.052401    0.052401  \n",
      "1         0.000000  0.000000  0.000000  0.000000    0.000000    0.000000  \n",
      "2         0.001543  0.005133  0.000586  0.027366    0.020907    0.157520  \n",
      "3         0.000000  0.000000  0.069767  0.000000    0.000000    0.000000  \n",
      "4         0.000000  0.000000  0.090909  0.000000    0.000000    0.000000  \n",
      "...            ...       ...       ...       ...         ...         ...  \n",
      "106301    0.000000  0.010940  0.007293  0.000000    0.000000    0.000000  \n",
      "106302    0.000000  0.000000  0.000000  0.000000    0.000000    0.000000  \n",
      "106303    0.000000  0.000000  0.000000  0.000000    0.000000    0.272383  \n",
      "106304    0.000000  0.000000  0.000000  0.000000    0.083059    0.083608  \n",
      "106305    0.003631  0.003775  0.000000  0.007538    0.003015    0.066892  \n",
      "\n",
      "[106306 rows x 55 columns]\n"
     ]
    }
   ],
   "source": [
    "# Reorganizes the columns so id appears first and cuisines are sorted in alphabetical order\n",
    "customer_profile_df = customer_profile_df.reindex(columns=['customer_id'] + list(customer_profile_df.columns.drop('customer_id')))\n",
    "cols = customer_profile_df.columns.tolist()\n",
    "cols = cols[:-54] + sorted(cols[-54:])\n",
    "customer_profile_df = customer_profile_df.reindex(columns=cols)\n",
    "print(customer_profile_df)"
   ]
  },
  {
   "cell_type": "code",
   "execution_count": 16,
   "metadata": {
    "id": "vfj1_C9L8MhD"
   },
   "outputs": [],
   "source": [
    "# Make sure each row adds in table adds to 1, since each row is normalized this should always happen.\n",
    "for index, row in customer_profile_df.iterrows():\n",
    "    if row[1:].sum() > 1.05 or row[1:].sum() < 0.95:\n",
    "      print(row[1:].sum())\n",
    "      print(\"Something is wrong at index: \", index)"
   ]
  },
  {
   "cell_type": "code",
   "execution_count": 1,
   "metadata": {
    "colab": {
     "base_uri": "https://localhost:8080/"
    },
    "id": "K4uteokGGowL",
    "outputId": "ea812d3d-d0ef-4b6c-ff8a-273488f695ad"
   },
   "outputs": [
    {
     "ename": "NameError",
     "evalue": "name 'customer_profile_df' is not defined",
     "output_type": "error",
     "traceback": [
      "\u001b[1;31m---------------------------------------------------------------------------\u001b[0m",
      "\u001b[1;31mNameError\u001b[0m                                 Traceback (most recent call last)",
      "Cell \u001b[1;32mIn[1], line 2\u001b[0m\n\u001b[0;32m      1\u001b[0m \u001b[38;5;66;03m# Converts to CSV file\u001b[39;00m\n\u001b[1;32m----> 2\u001b[0m \u001b[38;5;28mprint\u001b[39m(\u001b[43mcustomer_profile_df\u001b[49m)\n\u001b[0;32m      3\u001b[0m customer_profile_df\u001b[38;5;241m.\u001b[39mto_csv(\u001b[38;5;124m'\u001b[39m\u001b[38;5;124m./derived_files/customer_profiles_recency.csv\u001b[39m\u001b[38;5;124m'\u001b[39m, index\u001b[38;5;241m=\u001b[39m\u001b[38;5;28;01mFalse\u001b[39;00m)\n",
      "\u001b[1;31mNameError\u001b[0m: name 'customer_profile_df' is not defined"
     ]
    }
   ],
   "source": [
    "# Converts to CSV file\n",
    "print(customer_profile_df)\n",
    "customer_profile_df.to_csv('./derived_files/customer_profiles_recency.csv', index=False)"
   ]
  }
 ],
 "metadata": {
  "colab": {
   "provenance": []
  },
  "kernelspec": {
   "display_name": "Python 3 (ipykernel)",
   "language": "python",
   "name": "python3"
  },
  "language_info": {
   "codemirror_mode": {
    "name": "ipython",
    "version": 3
   },
   "file_extension": ".py",
   "mimetype": "text/x-python",
   "name": "python",
   "nbconvert_exporter": "python",
   "pygments_lexer": "ipython3",
   "version": "3.9.7"
  }
 },
 "nbformat": 4,
 "nbformat_minor": 1
}
