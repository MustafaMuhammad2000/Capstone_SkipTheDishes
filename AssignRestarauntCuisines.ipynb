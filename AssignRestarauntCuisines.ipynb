{
 "cells": [
  {
   "cell_type": "code",
   "execution_count": 4,
   "id": "3010b468",
   "metadata": {},
   "outputs": [],
   "source": [
    "import pandas as pd \n",
    "import numpy as np "
   ]
  },
  {
   "cell_type": "code",
   "execution_count": 17,
   "id": "398e22a8",
   "metadata": {
    "scrolled": true
   },
   "outputs": [
    {
     "name": "stdout",
     "output_type": "stream",
     "text": [
      "2969\n",
      "(2969, 4)\n",
      "                 short_name  skip_score location_city  \\\n",
      "0             1 for 1 pizza          75       Calgary   \n",
      "1      1600 world bier haus          91       Calgary   \n",
      "2  17th ave liquor boutique          99       Calgary   \n",
      "3              1886 buffalo          86       Calgary   \n",
      "4         1886 buffalo cafe          80       Calgary   \n",
      "\n",
      "                                        cussine_list  \n",
      "0           Halal, Chicken, Pizza, Sandwiches & Subs  \n",
      "1  Beer, Wings, Burgers, Sandwiches & Subs, Diner...  \n",
      "2  Beer, Corona, Offers, Spirits, Canadian, Wine,...  \n",
      "3  Lunch, Chicken, Soup, Bagels, Local Goods, Bre...  \n",
      "4  Homemade, Sandwiches & Subs, Lunch, Canadian, ...  \n",
      "0\n"
     ]
    }
   ],
   "source": [
    "df = pd.read_csv(\"./from_skip_files/Restaurant_Cuisine(LowerCase).csv\")\n",
    "df = df.drop([\"restaurant_id\", \"rn\",\"created\"], axis=1)\n",
    "print(df['short_name'].nunique())\n",
    "print(df.shape)\n",
    "print(df.head())\n",
    "\n",
    "print(df['short_name'].str.contains(\"DNU\").sum())"
   ]
  },
  {
   "cell_type": "code",
   "execution_count": 18,
   "id": "c266153d",
   "metadata": {},
   "outputs": [],
   "source": [
    "# List of ethnic or cultural cuisines\n",
    "# Plus convenience\n",
    "ethnic_or_cultural_items = [\n",
    "    \"Convenience\",\n",
    "    \"Indian\",\n",
    "    \"Italian\",\n",
    "    \"Chinese\",\n",
    "    \"Vietnamese\",\n",
    "    \"Japanese\",\n",
    "    \"Mediterranean\",\n",
    "    \"Middle Eastern\",\n",
    "    \"Mexican\",\n",
    "    \"Korean\",\n",
    "    \"Thai\",\n",
    "    \"French\",\n",
    "    \"African\",\n",
    "    \"Latin American\",\n",
    "    \"Ethiopian\",\n",
    "    \"Caribbean\",\n",
    "    \"Filipino\",\n",
    "    \"Spanish\",\n",
    "    \"German\",\n",
    "]"
   ]
  },
  {
   "cell_type": "code",
   "execution_count": 19,
   "id": "c016d19b",
   "metadata": {},
   "outputs": [
    {
     "name": "stdout",
     "output_type": "stream",
     "text": [
      "0           [Halal,  Chicken,  Pizza,  Sandwiches & Subs]\n",
      "1       [Beer,  Wings,  Burgers,  Sandwiches & Subs,  ...\n",
      "2       [Beer,  Corona,  Offers,  Spirits,  Canadian, ...\n",
      "3       [Lunch,  Chicken,  Soup,  Bagels,  Local Goods...\n",
      "4       [Homemade,  Sandwiches & Subs,  Lunch,  Canadi...\n",
      "                              ...                        \n",
      "2964    [Seafood,  Japanese,  Vegetarian,  Noodle Shop...\n",
      "2965    [Wings,  Alcohol,  American,  Vegetarian,  Foo...\n",
      "2966    [Indian,  Chicken,  Offers,  Desserts,  Vegeta...\n",
      "2967    [International,  Asian,  Sushi,  Only on Skip,...\n",
      "2968                  [Bud Light,  Wine,  Beer,  Alcohol]\n",
      "Name: cussine_list, Length: 2969, dtype: object\n"
     ]
    }
   ],
   "source": [
    "print(df['cussine_list'].str.split(\",\"))"
   ]
  },
  {
   "cell_type": "code",
   "execution_count": 20,
   "id": "65a7b037",
   "metadata": {},
   "outputs": [
    {
     "name": "stdout",
     "output_type": "stream",
     "text": [
      "Total Restaraunts:  2969\n",
      "Empty Restaraunts:  1458\n",
      "Flitered Restaraunts:  1511\n"
     ]
    }
   ],
   "source": [
    "size = 0\n",
    "for index, row in df.iterrows():\n",
    "    c1 = row['cussine_list']\n",
    "    c1_list = c1.split(\", \")\n",
    "    new_list = list(set(ethnic_or_cultural_items).intersection(c1_list))\n",
    "    df.at[index, 'cussine_list'] = ', '.join(new_list)\n",
    "    if len(new_list) == 0:\n",
    "        size += 1\n",
    "print(\"Total Restaraunts: \",df.shape[0])\n",
    "print(\"Empty Restaraunts: \", size)\n",
    "print(\"Flitered Restaraunts: \",df.shape[0]-size)"
   ]
  },
  {
   "cell_type": "code",
   "execution_count": 21,
   "id": "487018d7",
   "metadata": {},
   "outputs": [
    {
     "name": "stdout",
     "output_type": "stream",
     "text": [
      "0                        \n",
      "1                        \n",
      "2                        \n",
      "3                        \n",
      "4                        \n",
      "              ...        \n",
      "2964    Chinese, Japanese\n",
      "2965                     \n",
      "2966               Indian\n",
      "2967                     \n",
      "2968                     \n",
      "Name: cussine_list, Length: 2969, dtype: object\n",
      "231\n",
      "1280\n",
      "1458\n",
      "2969\n"
     ]
    }
   ],
   "source": [
    "print(df['cussine_list'])\n",
    "over_2 = 0\n",
    "equal_1 = 0\n",
    "empty = 0\n",
    "for index, row in df.iterrows():\n",
    "    c1 = row['cussine_list']\n",
    "    c1_list = c1.split(\", \")\n",
    "    if len(c1_list) >= 2:\n",
    "        over_2 +=1 \n",
    "    elif len(c1_list) == 1 and c1_list[0] != '':\n",
    "        equal_1 +=1\n",
    "    else:\n",
    "        empty +=1\n",
    "print(over_2)\n",
    "print(equal_1)\n",
    "print(empty)\n",
    "print(df['short_name'].nunique())"
   ]
  },
  {
   "cell_type": "code",
   "execution_count": 22,
   "id": "9dc9dd28",
   "metadata": {},
   "outputs": [
    {
     "name": "stdout",
     "output_type": "stream",
     "text": [
      "                                 1458\n",
      "Indian                            244\n",
      "Italian                           173\n",
      "Vietnamese                        166\n",
      "Chinese                           163\n",
      "Japanese                          143\n",
      "Mexican                            71\n",
      "Korean                             68\n",
      "Mediterranean                      63\n",
      "Middle Eastern                     59\n",
      "Thai                               39\n",
      "Convenience                        39\n",
      "Mediterranean, Middle Eastern      31\n",
      "Indian, Middle Eastern             29\n",
      "Vietnamese, Chinese                20\n",
      "Chinese, Indian                    15\n",
      "Vietnamese, Thai                   12\n",
      "African                            12\n",
      "Chinese, Thai                      11\n",
      "Korean, Japanese                   11\n",
      "Name: cussine_list, dtype: int64\n"
     ]
    }
   ],
   "source": [
    "print(df['cussine_list'].value_counts().nlargest(20))\n",
    "df = df[df['cussine_list'].astype(bool)]"
   ]
  },
  {
   "cell_type": "code",
   "execution_count": 23,
   "id": "71890f6d",
   "metadata": {},
   "outputs": [],
   "source": [
    "df.to_csv('./derived_files/Cuisine_Restaraunt.csv', index=False)"
   ]
  }
 ],
 "metadata": {
  "kernelspec": {
   "display_name": "Python 3 (ipykernel)",
   "language": "python",
   "name": "python3"
  },
  "language_info": {
   "codemirror_mode": {
    "name": "ipython",
    "version": 3
   },
   "file_extension": ".py",
   "mimetype": "text/x-python",
   "name": "python",
   "nbconvert_exporter": "python",
   "pygments_lexer": "ipython3",
   "version": "3.9.7"
  }
 },
 "nbformat": 4,
 "nbformat_minor": 5
}
