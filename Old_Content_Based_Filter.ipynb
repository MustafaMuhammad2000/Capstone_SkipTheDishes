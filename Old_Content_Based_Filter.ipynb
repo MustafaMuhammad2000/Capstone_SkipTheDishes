{
 "cells": [
  {
   "cell_type": "code",
   "execution_count": 49,
   "metadata": {
    "id": "-4z8JMNr43Mg"
   },
   "outputs": [],
   "source": [
    "import pandas as pd\n",
    "import numpy as np \n",
    "from sklearn.metrics.pairwise import cosine_similarity\n",
    "from scipy.spatial.distance import mahalanobis\n",
    "from scipy.stats import spearmanr\n",
    "from sklearn.metrics.pairwise import euclidean_distances\n",
    "import random\n"
   ]
  },
  {
   "cell_type": "code",
   "execution_count": 50,
   "metadata": {},
   "outputs": [],
   "source": [
    "# id_df = pd.read_csv('Restauant-CusineUpdated_-_results-20230110-115819.csv')\n",
    "# id_df = id_df[~id_df['short_name'].str.contains(\"DNU\")]\n",
    "# id_df = id_df[~id_df['short_name'].str.contains(\"dnu\")]\n",
    "# id_df.to_csv(\"All_Restauants.csv\", index=False)\n",
    "# print(id_df.shape)\n"
   ]
  },
  {
   "cell_type": "code",
   "execution_count": 6,
   "metadata": {
    "id": "L_Lds3qn5BgS",
    "scrolled": true
   },
   "outputs": [
    {
     "name": "stdout",
     "output_type": "stream",
     "text": [
      "(106251, 56)\n",
      "(2355, 55)\n"
     ]
    }
   ],
   "source": [
    "# Reading info for customer and restaraunt profiles \n",
    "customer_profiles = pd.read_csv('customer_profiles_more_context2.csv')\n",
    "restauraunt_profiles = pd.read_csv('combined_restaurant_order_profile.csv')\n",
    "id_df = pd.read_csv('All_Restauants.csv')\n",
    "\n",
    "print(customer_profiles.shape)\n",
    "print(restauraunt_profiles.shape)\n",
    "\n",
    "# Reading info for orders and restaraunt names, for later use\n",
    "orders = pd.read_csv('orders_3.5mil.csv')\n",
    "# restaraunt_names = pd.read_csv('restaurant_id_and_names.csv')\n",
    "restaraunt_scores = pd.read_csv('Restuarant_Cuisine(Updated-Unique).csv')\n",
    "\n",
    "# Dropping useless column in customer and restaraunt profiles \n",
    "customer_profiles = customer_profiles.drop('Unnamed: 0', axis=1)"
   ]
  },
  {
   "cell_type": "code",
   "execution_count": 8,
   "metadata": {},
   "outputs": [],
   "source": [
    "restauraunt_profiles = restauraunt_profiles[restauraunt_profiles['short_name'].isin(id_df['short_name'])]"
   ]
  },
  {
   "cell_type": "markdown",
   "metadata": {},
   "source": [
    "##### Over here was try 4 different metrics to find similarity between vectors, Cosine Similarity, Square data transformation then Cosine Similarity, Euclidean Distance, Spearman Correlation Coefficient. It seems Cosine Similarity is a strong choice in terms of speed and results, with square root cosine being an interesting contender"
   ]
  },
  {
   "cell_type": "code",
   "execution_count": 9,
   "metadata": {},
   "outputs": [],
   "source": [
    "def recommend_cosine_sim(customer_vector, restaraunt_profiles, num_recommendations):\n",
    "    # Calculate cosine similarity between customer and restaraunts, and stores the indicies of the highest similarity\n",
    "    # restaurants in variable value. \n",
    "    customer_cuisines = customer_vector.iloc[-54:].to_numpy()\n",
    "    customer_cuisines = customer_cuisines.reshape(1, -1)\n",
    "    restaurant_cuisines = restauraunt_profiles.iloc[:, 1:].to_numpy()\n",
    "    similarity = cosine_similarity(customer_cuisines, restaurant_cuisines)\n",
    "    value = np.argsort(similarity.flatten())[::-1]\n",
    "    top_X_restaraunts_id = []\n",
    "    top_X_short_names = []\n",
    "    # Ensures unique restaraunt names in recommendation\n",
    "    for i in value:\n",
    "        curr_name = restauraunt_profiles.iloc[i]['short_name']\n",
    "        skip_score_same_name = id_df[id_df['short_name'] == curr_name]\n",
    "        max_skip_score_row = skip_score_same_name.loc[skip_score_same_name['skip_score'].idxmax()]['restaurant_id']\n",
    "        top_X_restaraunts_id.append(max_skip_score_row)\n",
    "#         top_X_restaraunts\n",
    "        if len(top_X_restaraunts_id) == num_recommendations:\n",
    "            break\n",
    "    top_X_restaraunts = restauraunt_profiles.iloc[value[:num_recommendations]]\n",
    "    top_cos_scores = np.sort(similarity.flatten())[::-1][:num_recommendations]\n",
    "    top_X_restaraunts.insert(55,'cosine similarity score', top_cos_scores)\n",
    "    top_X_restaraunts.insert(1,'restaraunt_id', top_X_restaraunts_id)\n",
    "    return top_X_restaraunts"
   ]
  },
  {
   "cell_type": "code",
   "execution_count": null,
   "metadata": {},
   "outputs": [],
   "source": [
    "def recommend_sqrt_cosine_sim(customer_vector, restaraunt_profiles):\n",
    "    customer_cuisines = customer_vector.iloc[-54:].to_numpy()\n",
    "    customer_cuisines = np.sqrt(customer_cuisines.astype(float))\n",
    "    customer_cuisines = customer_cuisines.reshape(1, -1)  \n",
    "    restaurant_cuisines = restauraunt_profiles.iloc[:, 1:].to_numpy()\n",
    "    restaurant_cuisines = np.sqrt(restaurant_cuisines)\n",
    "    similarity = cosine_similarity(customer_cuisines, restaurant_cuisines)\n",
    "    value = np.argsort(similarity.flatten())[::-1]\n",
    "    top_5_restaraunts = restauraunt_profiles.iloc[value[:5]]\n",
    "    top_cos_scores = similarity.flatten()[value[:5]]\n",
    "    top_5_restaraunts.insert(55,'cosine similarity score', top_cos_scores)\n",
    "    \n",
    "    return top_5_restaraunts"
   ]
  },
  {
   "cell_type": "code",
   "execution_count": null,
   "metadata": {},
   "outputs": [],
   "source": [
    "def recommend_euclidean(customer_vector, restaraunt_profiles):\n",
    "    customer_cuisines = customer_vector.iloc[-54:].to_numpy()\n",
    "    customer_cuisines = customer_cuisines.reshape(1, -1)\n",
    "    restaurant_cuisines = restauraunt_profiles.iloc[:, 1:].to_numpy()\n",
    "    similarity = euclidean_distances(customer_cuisines, restaurant_cuisines)\n",
    "    value = np.argsort(similarity.flatten())\n",
    "    top_5_restaraunts = restauraunt_profiles.iloc[value[:5]]\n",
    "    top_cos_scores = similarity.flatten()[value[:5]]\n",
    "    \n",
    "    return top_5_restaraunts"
   ]
  },
  {
   "cell_type": "code",
   "execution_count": null,
   "metadata": {},
   "outputs": [],
   "source": [
    "def spearman_correlation_coefficent(customer_vector, restaraunt_profiles):\n",
    "    customer_cuisines = customer_vector.iloc[-54:]\n",
    "    customer_cuisines = pd.to_numeric(customer_cuisines, errors='raise')\n",
    "    top_10 = customer_cuisines.nlargest(54)\n",
    "    customer_cuisines = pd.Series(top_10.values, index=top_10.index)\n",
    "    customer_cuisines = customer_cuisines.sort_index()\n",
    "    customer_numpy = customer_cuisines.to_numpy()\n",
    "#     print(customer_cuisines.index)\n",
    "    restaurant_cuisines = restauraunt_profiles.iloc[:, 1:]\n",
    "    intersect_cols = list(set(customer_cuisines.index) & set(restaurant_cuisines.columns))\n",
    "    restaurant_cuisines = restaurant_cuisines[intersect_cols]\n",
    "    restaurant_cuisines = restaurant_cuisines.sort_index(axis=1)\n",
    "#     print(restaurant_cuisines.columns)\n",
    "    restaurant_cuisines = restaurant_cuisines.to_numpy()\n",
    "    correlations = []\n",
    "    for i in range(restaurant_cuisines.shape[0]):\n",
    "        r = restaurant_cuisines[i]\n",
    "        corr, _ = spearmanr(customer_numpy, r)\n",
    "        if np.isnan(corr):\n",
    "            correlations.append(-1)\n",
    "        else:\n",
    "            correlations.append(corr)\n",
    "    print(np.max(correlations))\n",
    "    value = np.argsort(correlations)[::-1]\n",
    "    top_5_restaraunts = restauraunt_profiles.iloc[value[:5]]\n",
    "    return top_5_restaraunts"
   ]
  },
  {
   "cell_type": "code",
   "execution_count": 18,
   "metadata": {},
   "outputs": [],
   "source": [
    "def pretty_print_recommendation(recommendation, customer_vector):\n",
    "    c_row = customer_vector\n",
    "    c_row = c_row.drop('customer_id')\n",
    "    c_row = pd.to_numeric(c_row, errors='raise')\n",
    "    c_top = c_row.nlargest(55)\n",
    "#     c_sqrt = c_row.pow(1./2)\n",
    "    c_top.name = \"Customer Preference\"\n",
    "#     c_sqrt.name = \"Customer Preference Sqrt\"\n",
    "    customer_orders = orders[orders['customer_id'] == customer_vector['customer_id']]\n",
    "    order_restauraunt = customer_orders['restaurant_short_name'].to_list()\n",
    "    order_item_list = customer_orders['item_list'].str.split(\", \").to_list()\n",
    "#     for i in range(0, len(order_item_list)):\n",
    "#         print(order_restauraunt[i])\n",
    "#         print(order_item_list[i])\n",
    "    for i in range(5):\n",
    "        r_row = recommendation.iloc[i]\n",
    "        restaraunt_name = r_row['short_name']\n",
    "        restaraunt_score = id_df[id_df['restaurant_id'] == r_row['restaraunt_id']]['skip_score']\n",
    "#         print(r_row['restaurant_id'])\n",
    "        r_row = r_row.drop('restaraunt_id')\n",
    "        r_row = r_row.drop('short_name')\n",
    "        r_row = pd.to_numeric(r_row, errors='raise')\n",
    "        r_top = r_row.nlargest(56)\n",
    "        r_top.name = \"Restauraunt Offers\"\n",
    "        compare = pd.concat([c_top, r_top], axis=1)\n",
    "        print(restaraunt_name)\n",
    "#         print(restaraunt_score)\n",
    "        print(compare[:5])\n",
    "        print(\"-------------\")"
   ]
  },
  {
   "cell_type": "markdown",
   "metadata": {},
   "source": [
    "##### Here is where we try the multiple different methods and compare results "
   ]
  },
  {
   "cell_type": "code",
   "execution_count": null,
   "metadata": {
    "scrolled": false
   },
   "outputs": [],
   "source": [
    "top_restaraunts = None\n",
    "momin = 2024\n",
    "for i in range (1):\n",
    "    random_number = random.randint(0, 100000) \n",
    "#     top_restaraunts = recommend_euclidean(customer_profiles.iloc[random_number], restauraunt_profiles)\n",
    "#     pretty_print_recommendation(top_restaraunts, customer_profiles.iloc[random_number])\n",
    "#     print(\"======================\")\n",
    "\n",
    "    top_restaraunts = recommend_cosine_sim(customer_profiles.iloc[random_number], restauraunt_profiles)\n",
    "    pretty_print_recommendation(top_restaraunts, customer_profiles.iloc[random_number])\n",
    "    print(\"======================\")\n",
    "#     top_restaraunts2 = recommend_sqrt_cosine_sim(customer_profiles.iloc[random_number], restauraunt_profiles)\n",
    "#     pretty_print_recommendation(top_restaraunts2, customer_profiles.iloc[random_number])\n",
    "#     print(\"======================\")\n",
    "#     top_restaraunts = spearman_correlation_coefficent(customer_profiles.iloc[random_number], restauraunt_profiles)\n",
    "#     pretty_print_recommendation(top_restaraunts, customer_profiles.iloc[random_number])\n",
    "#     print(\"======================\")\n",
    "\n"
   ]
  },
  {
   "cell_type": "markdown",
   "metadata": {},
   "source": [
    "##### Here we add variety into our system by picking the top 2 cuisines a customer prefers and replacing them with a similar cuisine. The similar cuisines were calculated using a similarity matrix. We randomly pick one of the top 3 most similar cuisines as the replacement for the current cuisine. E.g Customer likes Fries, the top 3 similar cuisine are Pork, Soup, Coffee/Tea so we select one of those"
   ]
  },
  {
   "cell_type": "code",
   "execution_count": 27,
   "metadata": {},
   "outputs": [],
   "source": [
    "rf = pd.read_csv(\"similarity_matrix_final.csv\")\n",
    "similar_cuisines = {}\n",
    "for index, row in rf.iterrows():\n",
    "    test = row.drop(\"Unnamed: 0\")\n",
    "    test = pd.to_numeric(test, errors='raise')\n",
    "    columns = test.nlargest(7).tail(5)\n",
    "#     columns = columns.drop(row.iloc[0])\n",
    "    similar_cuisines[row.iloc[0]] = columns"
   ]
  },
  {
   "cell_type": "code",
   "execution_count": 34,
   "metadata": {},
   "outputs": [],
   "source": [
    "def update_3_top_cuisines(customer_vector, similarity_matrix):\n",
    "    # Picks two highest customer cuisine preferences and swaps them with similar cuisines found \n",
    "    # in a similarity matrix. E.g customer likes Chicken 0.25 and Rice 0.2, will swap them out so they \n",
    "    # could become Fast Food and Lamb.\n",
    "    customer_vector_id = customer_vector.iloc[0]\n",
    "    customer_cuisines =  customer_vector.iloc[-54:]\n",
    "    org_sum = str(customer_cuisines.sum())\n",
    "    top3 =  pd.to_numeric(customer_cuisines, errors='raise').nlargest(3)\n",
    "    print(pd.to_numeric(customer_cuisines, errors='raise').nlargest(5))\n",
    "    for cuisine in top3.index.to_list():\n",
    "        similar_cuisines_dict = similarity_matrix[cuisine].to_dict()\n",
    "        print(similar_cuisines_dict)\n",
    "        old_cuisine = cuisine\n",
    "        old_cuisine_preference = top3[old_cuisine]\n",
    "        print(old_cuisine, old_cuisine_preference)\n",
    "        similar_cuisine = random.choice(list(similar_cuisines_dict.keys()))\n",
    "        similarity_of_new_cuisine = similar_cuisines_dict[similar_cuisine]\n",
    "        print(similar_cuisine, similarity_of_new_cuisine)\n",
    "        updated_old_cuisine_value = customer_cuisines[similar_cuisine] \n",
    "        updated_similar_cuisine_value = old_cuisine_preference\n",
    "        customer_cuisines[old_cuisine] = updated_old_cuisine_value\n",
    "        customer_cuisines[similar_cuisine] = updated_similar_cuisine_value\n",
    "    print(\"Sums\", org_sum, \" \", customer_cuisines.sum())\n",
    "    top5 = pd.to_numeric(customer_cuisines, errors='raise').nlargest(5)\n",
    "    print(top5)\n",
    "    customer_id_series = pd.Series({\"customer_id\": customer_vector_id})\n",
    "    final_test_customer = pd.concat([customer_id_series, customer_cuisines])\n",
    "    return final_test_customer"
   ]
  },
  {
   "cell_type": "code",
   "execution_count": null,
   "metadata": {},
   "outputs": [],
   "source": [
    "new_customer_vector =  update_2_top_cuisines(customer_profiles.iloc[momin], similar_cuisines)\n",
    "top_restaraunts_new = recommend_cosine_sim(new_customer_vector, restauraunt_profiles)\n",
    "pretty_print_recommendation(top_restaraunts_new, new_customer_vector)"
   ]
  },
  {
   "cell_type": "markdown",
   "metadata": {},
   "source": [
    "##### Now we try to include the skip score as part of the equation when recommending restaruants. The new formula for calculating top restauraunts is <b>score = (weight)*(skip_score)+(1-weight)*(cosine_similarity)</b> where weight is a user set variable. In our case we set weight to 0.2"
   ]
  },
  {
   "cell_type": "code",
   "execution_count": 41,
   "metadata": {},
   "outputs": [],
   "source": [
    "def adjust_recommendations_using_skip_score(top_restaraunts, weight):\n",
    "    if weight < 0 or weight > 1:\n",
    "        return\n",
    "    adjusted_scores = []\n",
    "    for i in range(0, top_restaraunts.shape[0]):\n",
    "        r_row = top_restaraunts.iloc[i]\n",
    "        restaraunt_score = id_df[id_df['restaurant_id'] == r_row['restaraunt_id']]['skip_score']\n",
    "        adjusted_scores.append(weight*restaraunt_score.iloc[0]/100+(1-weight)*\n",
    "                               r_row['cosine similarity score'])\n",
    "    top_restaraunts.insert(56,'adjusted score', adjusted_scores)\n",
    "#     print(top_restaraunts[['cosine similarity score', 'adjusted score']])\n",
    "    new_top_restaraunts = top_restaraunts.sort_values(by='adjusted score', ascending=False)\n",
    "    return new_top_restaraunts"
   ]
  },
  {
   "cell_type": "code",
   "execution_count": null,
   "metadata": {},
   "outputs": [],
   "source": [
    "new_top_restaraunts = adjust_recommendations_using_skip_score(top_restaraunts, 0.1)"
   ]
  },
  {
   "cell_type": "markdown",
   "metadata": {},
   "source": [
    "##### Trying to combine all the steps above into one solution, find top 5 restaraunts using cosine sim then apply skip score weighing. Replace bottom two restaraunts with varied restaraunts using similarity matrix for similar foods (also apply skip score weighting to find top two restaraunts) then finally recommend top 5"
   ]
  },
  {
   "cell_type": "code",
   "execution_count": 54,
   "metadata": {},
   "outputs": [],
   "source": [
    "def recommend_pipeline():\n",
    "    avoid_restaraunts = []\n",
    "    random_number = random.randint(0, 100000) \n",
    "    top_restaraunts = recommend_cosine_sim(customer_profiles.iloc[random_number], restauraunt_profiles, 5)\n",
    "    new_customer_vector =  update_3_top_cuisines(customer_profiles.iloc[random_number], similar_cuisines)\n",
    "    top_restaraunts_varied = recommend_cosine_sim(new_customer_vector, restauraunt_profiles, 5)\n",
    "    top_restaraunts_adjusted = adjust_recommendations_using_skip_score(top_restaraunts, 0.1)\n",
    "    top_restaraunts_varied_adjusted = adjust_recommendations_using_skip_score(top_restaraunts_varied, 0.1)\n",
    "    print(top_restaraunts_adjusted[['cosine similarity score', 'adjusted score']])\n",
    "    print(top_restaraunts_varied_adjusted[['cosine similarity score', 'adjusted score']])\n",
    "    intermediate_top_3 = top_restaraunts_adjusted.head(3)\n",
    "    intermediate_top_2 = top_restaraunts_varied_adjusted.head(2)\n",
    "    final_recommendations = pd.concat([intermediate_top_3, intermediate_top_2])\n",
    "    print(final_recommendations.shape)\n",
    "    pretty_print_recommendation(final_recommendations, customer_profiles.iloc[random_number])\n",
    "    return final_recommendations"
   ]
  },
  {
   "cell_type": "code",
   "execution_count": 57,
   "metadata": {
    "scrolled": true
   },
   "outputs": [
    {
     "name": "stdout",
     "output_type": "stream",
     "text": [
      "Indian      1.0\n",
      "African     0.0\n",
      "Alcohol     0.0\n",
      "Bakery      0.0\n",
      "Barbecue    0.0\n",
      "Name: 20513, dtype: float64\n",
      "{'Chicken': 0.7176293519438741, 'Lamb': 0.6357881673627198, 'Healthy': 0.6109596859772877, 'Vegetarian': 0.5956379905349253, 'Noodles': 0.5363554750098376}\n",
      "Indian 1.0\n",
      "Vegetarian 0.5956379905349253\n",
      "{'Halal': 0.4741995204185406, 'Beef': 0.4723741071825232, 'Chinese': 0.4616668936912207, 'Rice': 0.4486607259135435, 'Soup': 0.445026511764928}\n",
      "African 0.0\n",
      "Chinese 0.4616668936912207\n",
      "{'Chicken': 0.4375423773630279, 'Burgers': 0.4373175001866742, 'Fast food': 0.4303329974296635, 'Butcher': 0.4275678479441326, 'Sandwiches & Subs': 0.4245562842028815}\n",
      "Alcohol 0.0\n",
      "Butcher 0.4275678479441326\n",
      "Sums 1.0   1.0\n",
      "Vegetarian    1.0\n",
      "African       0.0\n",
      "Alcohol       0.0\n",
      "Bakery        0.0\n",
      "Barbecue      0.0\n",
      "Name: 20513, dtype: float64\n",
      "      cosine similarity score  adjusted score\n",
      "1037                 0.993639        0.979276\n",
      "1657                 0.999056        0.979151\n",
      "1540                 0.993533        0.977180\n",
      "1038                 0.990709        0.972638\n",
      "1612                 0.992145        0.967930\n",
      "      cosine similarity score  adjusted score\n",
      "1886                 0.809040        0.821136\n",
      "2174                 0.707107        0.716396\n",
      "2312                 0.697097        0.701387\n",
      "414                  0.694595        0.700135\n",
      "1997                 0.644091        0.655682\n",
      "(5, 58)\n",
      "Lovely Sweets Street Eats\n",
      "          Customer Preference  Restauraunt Offers\n",
      "Indian                    1.0            0.773278\n",
      "Popcorn                   0.0            0.000000\n",
      "Japanese                  0.0            0.000000\n",
      "Korean                    0.0            0.000000\n",
      "Kosher                    0.0            0.000000\n",
      "-------------\n",
      "Singh's Tiffin\n",
      "          Customer Preference  Restauraunt Offers\n",
      "Indian                    1.0            0.958333\n",
      "Popcorn                   0.0            0.000000\n",
      "Japanese                  0.0            0.000000\n",
      "Korean                    0.0            0.000000\n",
      "Kosher                    0.0            0.000000\n",
      "-------------\n",
      "Royal Paan\n",
      "          Customer Preference  Restauraunt Offers\n",
      "Indian                    1.0            0.715361\n",
      "Popcorn                   0.0            0.000000\n",
      "Japanese                  0.0            0.000000\n",
      "Korean                    0.0            0.000000\n",
      "Kosher                    0.0            0.000000\n",
      "-------------\n",
      "The VEG\n",
      "          Customer Preference  Restauraunt Offers\n",
      "Indian                    1.0                 0.0\n",
      "Popcorn                   0.0                 0.0\n",
      "Japanese                  0.0                 0.0\n",
      "Korean                    0.0                 0.0\n",
      "Kosher                    0.0                 0.0\n",
      "-------------\n",
      "Fraser & Fig\n",
      "          Customer Preference  Restauraunt Offers\n",
      "Indian                    1.0                 0.0\n",
      "Popcorn                   0.0                 0.0\n",
      "Japanese                  0.0                 0.0\n",
      "Korean                    0.0                 0.0\n",
      "Kosher                    0.0                 0.0\n",
      "-------------\n"
     ]
    }
   ],
   "source": [
    "recommendations = recommend_pipeline()\n",
    "# Error that I got to fix, no repeats in top 3/bottom 2"
   ]
  }
 ],
 "metadata": {
  "colab": {
   "provenance": []
  },
  "kernelspec": {
   "display_name": "Python 3 (ipykernel)",
   "language": "python",
   "name": "python3"
  },
  "language_info": {
   "codemirror_mode": {
    "name": "ipython",
    "version": 3
   },
   "file_extension": ".py",
   "mimetype": "text/x-python",
   "name": "python",
   "nbconvert_exporter": "python",
   "pygments_lexer": "ipython3",
   "version": "3.9.7"
  }
 },
 "nbformat": 4,
 "nbformat_minor": 1
}
