{
 "cells": [
  {
   "cell_type": "code",
   "execution_count": 1,
   "id": "e52b880a-b34e-4b74-b27a-97851cacbbac",
   "metadata": {},
   "outputs": [],
   "source": [
    "import pandas as pd\n",
    "import numpy as np"
   ]
  },
  {
   "cell_type": "code",
   "execution_count": 2,
   "id": "81589d06-c5a9-4671-ada2-a971f8eacfbe",
   "metadata": {},
   "outputs": [],
   "source": [
    "# df is order csv\n",
    "df = pd.read_csv(\"orders_3.5mil.csv\")\n",
    "# cf is customer profile csv",
    "cf = pd.read_csv(\"customer_profiles_recency.csv\")\n",
    "\n",
    "# Read in the names of cuisine types for storage in future dataframes\n",
    "names = cf.columns.values.tolist()\n",
    "\n",
    "# Get the count of all the customer orders, sorted by customer id\n",
    "group_counts = df.groupby('customer_id').count()\n",
    "arr = cf.to_numpy()\n",
    "arr = arr[:, 1:]"
   ]
  },
  {
   "cell_type": "code",
   "execution_count": 3,
   "id": "d1744c91-f0d9-453c-82d5-50ae88bdd739",
   "metadata": {},
   "outputs": [],
   "source": [
    "# Make a new list of customer profiles with any customer with less than 10 orders removed\n",
    "customer_profile_list = []\n",
    "i = 0\n",
    "for index, row in group_counts.iterrows():\n",
    "    if i >= arr.shape[0]:\n",
    "        break\n",
    "    if row[0] > 10:\n",
    "        customer_profile_list.append(arr[i, :])\n",
    "    i += 1"
   ]
  },
  {
   "cell_type": "code",
   "execution_count": 6,
   "id": "dcf1db71-859f-4381-9521-9c0d720b80c1",
   "metadata": {},
   "outputs": [
    {
     "name": "stdout",
     "output_type": "stream",
     "text": [
      "                                customer_id  African   Alcohol    Bakery  \\\n",
      "0      0000267e-c83e-4a48-9776-8163eab97b6a      0.0  0.003465  0.104122   \n",
      "1      00007de5-00ae-454e-9eb2-c5b100a27659      0.0  0.000000  0.095367   \n",
      "2      00007e2c-cd9c-43d5-9148-60457215dfd8      0.0  0.000000  0.055443   \n",
      "3      0000a630-1c0a-45db-8516-d07bda7f22dd      0.0  0.000000  0.034887   \n",
      "4      000118af-5466-4790-be93-f052f355a773      0.0  0.013151  0.025807   \n",
      "...                                     ...      ...       ...       ...   \n",
      "41500  1ee237e6-b354-4e65-9f08-da10a7bd029a      0.0  0.000000  0.142857   \n",
      "41501  1ee24d2b-5be0-41db-abb3-6c3f540bf8f5      0.0  0.000000  0.222222   \n",
      "41502  1ee251a8-7838-4d06-93ac-f46563a6958b      0.0  0.000000  0.000000   \n",
      "41503  1ee2cbb8-f9a5-4454-aa19-c11c4d447f08      0.0  0.000000  0.000000   \n",
      "41504  1ee2f0e4-8f54-4a00-8fbc-57ad13431b12      0.0  0.166228  0.000000   \n",
      "\n",
      "       Barbecue      Beef  Breakfast & Brunch  Bubble Tea   Burgers   Butcher  \\\n",
      "0      0.039443  0.008570            0.014179    0.000000  0.020725  0.002928   \n",
      "1      0.000000  0.000000            0.031789    0.000000  0.000000  0.000000   \n",
      "2      0.004007  0.019386            0.025036    0.032698  0.000000  0.000000   \n",
      "3      0.012555  0.088536            0.000000    0.000000  0.038770  0.041296   \n",
      "4      0.000000  0.000000            0.230296    0.001731  0.031387  0.015457   \n",
      "...         ...       ...                 ...         ...       ...       ...   \n",
      "41500  0.142857  0.000000            0.000000    0.000000  0.000000  0.000000   \n",
      "41501  0.000000  0.000000            0.000000    0.000000  0.000000  0.000000   \n",
      "41502  0.000000  0.000000            0.000000    0.000000  0.250000  0.000000   \n",
      "41503  0.000000  0.000000            0.000000    0.000000  0.247998  0.000000   \n",
      "41504  0.000000  0.083608            0.083059    0.000000  0.000000  0.000000   \n",
      "\n",
      "       ...  Sandwiches & Subs   Seafood      Soup   Spanish  Steakhouse  \\\n",
      "0      ...           0.032508  0.071368  0.030471  0.000000    0.001543   \n",
      "1      ...           0.000000  0.015894  0.000000  0.000000    0.000000   \n",
      "2      ...           0.072787  0.051513  0.061445  0.000000    0.000000   \n",
      "3      ...           0.103491  0.000000  0.000000  0.019228    0.000000   \n",
      "4      ...           0.255534  0.025260  0.000000  0.000000    0.000000   \n",
      "...    ...                ...       ...       ...       ...         ...   \n",
      "41500  ...           0.142857  0.000000  0.000000  0.000000    0.000000   \n",
      "41501  ...           0.000000  0.111111  0.000000  0.000000    0.000000   \n",
      "41502  ...           0.000000  0.000000  0.000000  0.000000    0.000000   \n",
      "41503  ...           0.000000  0.000000  0.000000  0.000000    0.000000   \n",
      "41504  ...           0.083059  0.000000  0.083608  0.000000    0.000000   \n",
      "\n",
      "          Sushi     Tacos      Thai  Vegetarian  Vietnamese  \n",
      "0      0.005133  0.000586  0.027366    0.020907    0.157520  \n",
      "1      0.000000  0.000000  0.000000    0.000000    0.000000  \n",
      "2      0.004007  0.000000  0.000000    0.000000    0.041098  \n",
      "3      0.000000  0.000000  0.000000    0.000000    0.000000  \n",
      "4      0.000000  0.000000  0.000000    0.000000    0.000000  \n",
      "...         ...       ...       ...         ...         ...  \n",
      "41500  0.000000  0.000000  0.000000    0.000000    0.000000  \n",
      "41501  0.000000  0.000000  0.111111    0.000000    0.222222  \n",
      "41502  0.000000  0.000000  0.000000    0.000000    0.000000  \n",
      "41503  0.000000  0.000000  0.000000    0.000000    0.000000  \n",
      "41504  0.000000  0.000000  0.000000    0.083059    0.083608  \n",
      "\n",
      "[41505 rows x 55 columns]\n"
     ]
    }
   ],
   "source": [
    "# Store the new cutoff into a .csv file\n",
    "cutoff_df = pd.DataFrame(customer_profile_list, columns=names[1:])\n",
    "cutoff_df.to_csv('customer_profiles_lowest_cutoff.csv')\n",
    "\n",
    "print(cutoff_df)"
   ]
  },
  {
   "cell_type": "code",
   "execution_count": 7,
   "id": "ea4ca435-be88-418c-acdc-5c0af9b2e72b",
   "metadata": {},
   "outputs": [],
   "source": [
    "# Perform cosine similarity between all the cuisine types, store values in a matrix\n",
    "cosine_sim = np.zeros((54, 54))\n",
    "for i in range(54):\n",
    "    for j in range(54):\n",
    "        a = cutoff_df.iloc[:, i + 1]\n",
    "        b = cutoff_df.iloc[:, j + 1]\n",
    "        cosine_sim[i][j] = np.dot(a, b) / (np.linalg.norm(a) * np.linalg.norm(b))"
   ]
  },
  {
   "cell_type": "code",
   "execution_count": 8,
   "id": "88daf57e-07bf-41ff-9444-9173be053261",
   "metadata": {},
   "outputs": [],
   "source": [
    "# Calculate mean and standard deviation\n",
    "mean = np.mean(cosine_sim)\n",
    "std = np.std(cosine_sim)\n",
    "\n",
    "# Use a sigmoid function to remap values so the average is closer to 0.5\n",
    "cosine_sim = 1 / (1 + np.exp(-(cosine_sim - mean) / std))\n",
    "\n",
    "# Store the final matrix as a dataframe\n",
    "final_df = pd.DataFrame(cosine_sim, names[2:], names[2:])\n",
    "\n",
    "# Hard coded values to remove\n",
    "# Values are removed to eliminate any chance of poor recommendation\n",
    "# Values are only removed in one direction, since the reverse direction can still be recommended\n",
    "final_df.at['Halal','Alcohol'] = 0\n",
    "final_df.at['Halal','Pork'] = 0\n",
    "final_df.at['Kosher','Pork'] = 0\n",
    "\n",
    "# Store the final dataframe into a .csv file\n",
    "final_df.to_csv('similarity_matrix_final_official.csv')"
   ]
  },
  {
   "cell_type": "code",
   "execution_count": 9,
   "id": "8b13a99d-14ad-4385-8eb7-fcb8bc39d4d2",
   "metadata": {},
   "outputs": [
    {
     "name": "stdout",
     "output_type": "stream",
     "text": [
      "0.0\n",
      "0.47645324396991867\n",
      "0.12045220710747154\n"
     ]
    }
   ],
   "source": [
    "# One final check on some statistics of the matrix\n",
    "minimum = np.min(cosine_sim)\n",
    "mean = np.mean(cosine_sim)  # New mean\n",
    "std = np.std(cosine_sim)  # New std\n",
    "\n",
    "print(minimum)\n",
    "print(mean)\n",
    "print(std)"
   ]
  },
  {
   "cell_type": "code",
   "execution_count": null,
   "id": "6459d08d-2d88-4a42-ad86-cab3689b00f3",
   "metadata": {},
   "outputs": [],
   "source": []
  }
 ],
 "metadata": {
  "kernelspec": {
   "display_name": "Python 3 (ipykernel)",
   "language": "python",
   "name": "python3"
  },
  "language_info": {
   "codemirror_mode": {
    "name": "ipython",
    "version": 3
   },
   "file_extension": ".py",
   "mimetype": "text/x-python",
   "name": "python",
   "nbconvert_exporter": "python",
   "pygments_lexer": "ipython3",
   "version": "3.8.3"
  }
 },
 "nbformat": 4,
 "nbformat_minor": 5
}
