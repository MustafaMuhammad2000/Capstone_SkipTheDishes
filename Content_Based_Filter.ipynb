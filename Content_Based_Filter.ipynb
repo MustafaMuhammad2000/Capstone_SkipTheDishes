{
 "cells": [
  {
   "cell_type": "code",
   "execution_count": 1,
   "metadata": {
    "id": "-4z8JMNr43Mg"
   },
   "outputs": [],
   "source": [
    "import pandas as pd\n",
    "import numpy as np \n",
    "from sklearn.metrics.pairwise import cosine_similarity\n",
    "import random"
   ]
  },
  {
   "cell_type": "code",
   "execution_count": 2,
   "metadata": {},
   "outputs": [],
   "source": [
    "# id_df = pd.read_csv('Restauant-CusineUpdated_-_results-20230110-115819.csv')\n",
    "# id_df = id_df[~id_df['short_name'].str.contains(\"DNU\")]\n",
    "# id_df = id_df[~id_df['short_name'].str.contains(\"dnu\")]\n",
    "# id_df.to_csv(\"All_Restauants.csv\", index=False)\n",
    "# print(id_df.shape)"
   ]
  },
  {
   "cell_type": "code",
   "execution_count": 12,
   "metadata": {
    "id": "L_Lds3qn5BgS",
    "scrolled": false
   },
   "outputs": [
    {
     "name": "stdout",
     "output_type": "stream",
     "text": [
      "(106306, 56)\n",
      "(2354, 55)\n"
     ]
    }
   ],
   "source": [
    "# Reading info for customer and restaraunt profiles \n",
    "customer_profiles = pd.read_csv('./derived_files/customer_profiles_recency.csv')\n",
    "restauraunt_profiles = pd.read_csv('./derived_files/combined_restaurant_order_profile.csv')\n",
    "id_df = pd.read_csv('./derived_files/All_Restauants.csv')\n",
    "\n",
    "print(customer_profiles.shape)\n",
    "print(restauraunt_profiles.shape)\n",
    "\n",
    "# Reading info for orders and restaraunt names, for later use\n",
    "orders = pd.read_csv('./from_skip_files/orders_3.5mil.csv')\n",
    "# restaraunt_names = pd.read_csv('restaurant_id_and_names.csv')\n",
    "restaraunt_scores = pd.read_csv('./from_skip_files/Restaurant_Cuisine(LowerCase).csv')\n",
    "\n",
    "# Dropping useless column in customer and restaraunt profiles \n",
    "customer_profiles = customer_profiles.drop('Unnamed: 0', axis=1)"
   ]
  },
  {
   "cell_type": "code",
   "execution_count": 13,
   "metadata": {},
   "outputs": [
    {
     "name": "stdout",
     "output_type": "stream",
     "text": [
      "(2250, 55)\n"
     ]
    }
   ],
   "source": [
    "id_df['short_name'] = id_df['short_name'].str.lower()\n",
    "restauraunt_profiles = restauraunt_profiles[restauraunt_profiles['short_name'].isin(id_df['short_name'])]\n",
    "print(restauraunt_profiles.shape)"
   ]
  },
  {
   "cell_type": "markdown",
   "metadata": {},
   "source": [
    "##### Over here was try 4 different metrics to find similarity between vectors, Cosine Similarity, Square data transformation then Cosine Similarity, Euclidean Distance, Spearman Correlation Coefficient. It seems Cosine Similarity is a strong choice in terms of speed and results, with square root cosine being an interesting contender"
   ]
  },
  {
   "cell_type": "code",
   "execution_count": 14,
   "metadata": {},
   "outputs": [],
   "source": [
    "def recommend_cosine_sim(customer_vector, restaraunt_profiles, num_recommendations):\n",
    "    # Calculate cosine similarity between customer and restaraunts, and stores the indicies of the highest similarity\n",
    "    # restaurants in variable value. \n",
    "    customer_cuisines = customer_vector.iloc[-54:].to_numpy()\n",
    "    customer_cuisines = customer_cuisines.reshape(1, -1)\n",
    "    restaurant_cuisines = restauraunt_profiles.iloc[:, 1:].to_numpy()\n",
    "    similarity = cosine_similarity(customer_cuisines, restaurant_cuisines)\n",
    "    value = np.argsort(similarity.flatten())[::-1]\n",
    "    top_X_restaraunts_id = []\n",
    "    top_X_short_names = []\n",
    "    # Ensures unique restaraunt names in recommendation\n",
    "    for i in value:\n",
    "        curr_name = restauraunt_profiles.iloc[i]['short_name']\n",
    "        skip_score_same_name = id_df[id_df['short_name'] == curr_name]\n",
    "        max_skip_score_row = skip_score_same_name.loc[skip_score_same_name['skip_score'].idxmax()]['restaurant_id']\n",
    "        top_X_restaraunts_id.append(max_skip_score_row)\n",
    "#         top_X_restaraunts\n",
    "        if len(top_X_restaraunts_id) == num_recommendations:\n",
    "            break\n",
    "    top_X_restaraunts = restauraunt_profiles.iloc[value[:num_recommendations]]\n",
    "    top_cos_scores = np.sort(similarity.flatten())[::-1][:num_recommendations]\n",
    "    top_X_restaraunts.insert(55,'cosine similarity score', top_cos_scores)\n",
    "    top_X_restaraunts.insert(1,'restaraunt_id', top_X_restaraunts_id)\n",
    "    return top_X_restaraunts"
   ]
  },
  {
   "cell_type": "code",
   "execution_count": 15,
   "metadata": {},
   "outputs": [],
   "source": [
    "def pretty_print_recommendation(recommendation, customer_vector):\n",
    "    c_row = customer_vector\n",
    "    c_row = c_row.drop('customer_id')\n",
    "    c_row = pd.to_numeric(c_row, errors='raise')\n",
    "    c_top = c_row.nlargest(55)\n",
    "    c_top.name = \"Customer Preference\"\n",
    "    customer_orders = orders[orders['customer_id'] == customer_vector['customer_id']]\n",
    "    order_restauraunt = customer_orders['restaurant_short_name'].to_list()\n",
    "    order_item_list = customer_orders['item_list'].str.split(\", \").to_list()\n",
    "#     for i in range(0, len(order_item_list)):\n",
    "#         print(order_restauraunt[i])\n",
    "#         print(order_item_list[i])\n",
    "    for i in range(5):\n",
    "        r_row = recommendation.iloc[i]\n",
    "        restaraunt_name = r_row['short_name']\n",
    "        restaraunt_score = id_df[id_df['restaurant_id'] == r_row['restaraunt_id']]['skip_score']\n",
    "        r_row = r_row.drop('restaraunt_id')\n",
    "        r_row = r_row.drop('short_name')\n",
    "        r_row = pd.to_numeric(r_row, errors='raise')\n",
    "        r_top = r_row.nlargest(56)\n",
    "        r_top.name = \"Restauraunt Offers\"\n",
    "        compare = pd.concat([c_top, r_top], axis=1)\n",
    "        print(restaraunt_name)\n",
    "        print(compare[:5])\n",
    "        print(\"-------------\")"
   ]
  },
  {
   "cell_type": "markdown",
   "metadata": {},
   "source": [
    "##### Here is where we try the multiple different methods and compare results "
   ]
  },
  {
   "cell_type": "markdown",
   "metadata": {},
   "source": [
    "##### Here we add variety into our system by picking the top 2 cuisines a customer prefers and replacing them with a similar cuisine. The similar cuisines were calculated using a similarity matrix. We randomly pick one of the top 3 most similar cuisines as the replacement for the current cuisine. E.g Customer likes Fries, the top 3 similar cuisine are Pork, Soup, Coffee/Tea so we select one of those"
   ]
  },
  {
   "cell_type": "code",
   "execution_count": 35,
   "metadata": {},
   "outputs": [],
   "source": [
    "rf = pd.read_csv(\"./derived_files/similarity_matrix_final_official.csv\")\n",
    "similar_cuisines = {}\n",
    "for index, row in rf.iterrows():\n",
    "    test = row.drop(\"Unnamed: 0\")\n",
    "    test = pd.to_numeric(test, errors='raise')\n",
    "    columns = test.nlargest(8).tail(5)\n",
    "#     columns = columns.drop(row.iloc[0])\n",
    "    similar_cuisines[row.iloc[0]] = columns"
   ]
  },
  {
   "cell_type": "code",
   "execution_count": 83,
   "metadata": {},
   "outputs": [],
   "source": [
    "def update_3_top_cuisines(customer_vector, similarity_matrix):\n",
    "    # Picks two highest customer cuisine preferences and swaps them with similar cuisines found \n",
    "    # in a similarity matrix. E.g customer likes Chicken 0.25 and Rice 0.2, will swap them out so they \n",
    "    # could become Fast Food and Lamb.\n",
    "    customer_vector_id = customer_vector.iloc[0]\n",
    "    customer_cuisines =  customer_vector.iloc[-54:]\n",
    "    org_sum = str(customer_cuisines.sum())\n",
    "    top3 =  pd.to_numeric(customer_cuisines, errors='raise').nlargest(3)\n",
    "    print(pd.to_numeric(customer_cuisines, errors='raise').nlargest(5))\n",
    "    do_not_repeat = top3.index.to_list()\n",
    "    print(do_not_repeat)\n",
    "    for cuisine in top3.index.to_list():\n",
    "        similar_cuisines_dict = similarity_matrix[cuisine].to_dict()\n",
    "        print(similar_cuisines_dict)\n",
    "        old_cuisine = cuisine\n",
    "        old_cuisine_preference = top3[old_cuisine]\n",
    "        print(old_cuisine, old_cuisine_preference)\n",
    "        similar_cuisine = \"\"\n",
    "        while similar_cuisine == \"\" or similar_cuisine in do_not_repeat:\n",
    "            similar_cuisine = random.choice(list(similar_cuisines_dict.keys()))\n",
    "        similarity_of_new_cuisine = similar_cuisines_dict[similar_cuisine]\n",
    "        print(similar_cuisine, similarity_of_new_cuisine)\n",
    "        updated_old_cuisine_value = customer_cuisines[similar_cuisine] \n",
    "        updated_similar_cuisine_value = old_cuisine_preference\n",
    "        customer_cuisines[old_cuisine] = updated_old_cuisine_value\n",
    "        customer_cuisines[similar_cuisine] = updated_similar_cuisine_value\n",
    "    print(\"Sums\", org_sum, \" \", customer_cuisines.sum())\n",
    "    top5 = pd.to_numeric(customer_cuisines, errors='raise').nlargest(5)\n",
    "    print(top5)\n",
    "    customer_id_series = pd.Series({\"customer_id\": customer_vector_id})\n",
    "    final_test_customer = pd.concat([customer_id_series, customer_cuisines])\n",
    "    return final_test_customer"
   ]
  },
  {
   "cell_type": "markdown",
   "metadata": {},
   "source": [
    "##### Now we try to include the skip score as part of the equation when recommending restaruants. The new formula for calculating top restauraunts is <b>score = (weight)*(skip_score)+(1-weight)*(cosine_similarity)</b> where weight is a user set variable. In our case we set weight to 0.2"
   ]
  },
  {
   "cell_type": "code",
   "execution_count": 19,
   "metadata": {},
   "outputs": [],
   "source": [
    "def adjust_recommendations_using_skip_score(top_restaraunts, weight):\n",
    "    if weight < 0 or weight > 1:\n",
    "        return\n",
    "    adjusted_scores = []\n",
    "    for i in range(0, top_restaraunts.shape[0]):\n",
    "        r_row = top_restaraunts.iloc[i]\n",
    "        restaraunt_score = id_df[id_df['restaurant_id'] == r_row['restaraunt_id']]['skip_score']\n",
    "        adjusted_scores.append(weight*restaraunt_score.iloc[0]/100+(1-weight)*\n",
    "                               r_row['cosine similarity score'])\n",
    "    top_restaraunts.insert(56,'adjusted score', adjusted_scores)\n",
    "#     print(top_restaraunts[['cosine similarity score', 'adjusted score']])\n",
    "    new_top_restaraunts = top_restaraunts.sort_values(by='adjusted score', ascending=False)\n",
    "    return new_top_restaraunts"
   ]
  },
  {
   "cell_type": "code",
   "execution_count": null,
   "metadata": {},
   "outputs": [],
   "source": [
    "new_top_restaraunts = adjust_recommendations_using_skip_score(top_restaraunts, 0.1)"
   ]
  },
  {
   "cell_type": "markdown",
   "metadata": {},
   "source": [
    "##### Trying to combine all the steps above into one solution, find top 5 restaraunts using cosine sim then apply skip score weighing. Replace bottom two restaraunts with varied restaraunts using similarity matrix for similar foods (also apply skip score weighting to find top two restaraunts) then finally recommend top 5"
   ]
  },
  {
   "cell_type": "code",
   "execution_count": 20,
   "metadata": {},
   "outputs": [],
   "source": [
    "def recommend_pipeline():\n",
    "    avoid_restaraunts = []\n",
    "    random_number = random.randint(0, 100000) \n",
    "    top_restaraunts = recommend_cosine_sim(customer_profiles.iloc[random_number], restauraunt_profiles, 5)\n",
    "    new_customer_vector =  update_3_top_cuisines(customer_profiles.iloc[random_number], similar_cuisines)\n",
    "    top_restaraunts_varied = recommend_cosine_sim(new_customer_vector, restauraunt_profiles, 5)\n",
    "    top_restaraunts_adjusted = adjust_recommendations_using_skip_score(top_restaraunts, 0.1)\n",
    "    top_restaraunts_varied_adjusted = adjust_recommendations_using_skip_score(top_restaraunts_varied, 0.1)\n",
    "    print(top_restaraunts_adjusted[['cosine similarity score', 'adjusted score']])\n",
    "    print(top_restaraunts_varied_adjusted[['cosine similarity score', 'adjusted score']])\n",
    "    intermediate_top_3 = top_restaraunts_adjusted.head(3)\n",
    "    intermediate_top_2 = top_restaraunts_varied_adjusted.head(2)\n",
    "    final_recommendations = pd.concat([intermediate_top_3, intermediate_top_2])\n",
    "    print(final_recommendations.shape)\n",
    "    pretty_print_recommendation(final_recommendations, customer_profiles.iloc[random_number])\n",
    "    return final_recommendations"
   ]
  },
  {
   "cell_type": "code",
   "execution_count": 85,
   "metadata": {
    "scrolled": true
   },
   "outputs": [
    {
     "name": "stdout",
     "output_type": "stream",
     "text": [
      "Breakfast & Brunch    0.333333\n",
      "Italian               0.333333\n",
      "Pizza                 0.333333\n",
      "African               0.000000\n",
      "Alcohol               0.000000\n",
      "Name: 41180, dtype: float64\n",
      "['Breakfast & Brunch', 'Italian', 'Pizza']\n",
      "{'Bakery': 0.7925766085904687, 'Sandwiches & Subs': 0.6870653380722986, 'Fast food': 0.6719272421862905, 'Coffee/Tea': 0.6532303081077946, 'Pork': 0.6458234597746136}\n",
      "Breakfast & Brunch 0.3333333333333333\n",
      "Fast food 0.6719272421862905\n",
      "{'Chicken': 0.631166641975128, 'Pork': 0.6248369211273542, 'Pub food': 0.5948449109085934, 'Healthy': 0.5943299946901787, 'Sandwiches & Subs': 0.5680669649429522}\n",
      "Italian 0.3333333333333333\n",
      "Chicken 0.631166641975128\n",
      "{'Pub food': 0.6123965980151752, 'Chicken': 0.5997205607838619, 'Mediterranean': 0.5568693749242412, 'Healthy': 0.5423917806157508, 'Vegetarian': 0.5383818728591813}\n",
      "Pizza 0.3333333333333333\n",
      "Mediterranean 0.5568693749242412\n",
      "Sums 1.0   1.0\n",
      "Chicken          0.333333\n",
      "Fast food        0.333333\n",
      "Mediterranean    0.333333\n",
      "African          0.000000\n",
      "Alcohol          0.000000\n",
      "Name: 41180, dtype: float64\n",
      "      cosine similarity score  adjusted score\n",
      "1590                 0.878510        0.883659\n",
      "1006                 0.822980        0.827682\n",
      "1438                 0.816385        0.816747\n",
      "1008                 0.816660        0.813994\n",
      "1439                 0.814770        0.811293\n",
      "      cosine similarity score  adjusted score\n",
      "569                  0.838113        0.851302\n",
      "1392                 0.800885        0.800796\n",
      "1243                 0.771127        0.793014\n",
      "1242                 0.762420        0.775178\n",
      "993                  0.754485        0.765036\n",
      "(5, 58)\n",
      "savino pizzeria\n",
      "                    Customer Preference  Restauraunt Offers\n",
      "Breakfast & Brunch             0.333333            0.087368\n",
      "Pizza                          0.333333            0.350324\n",
      "Italian                        0.333333            0.350980\n",
      "African                        0.000000            0.000000\n",
      "Popcorn                        0.000000            0.000000\n",
      "-------------\n",
      "lina's italian market and cappuccino bar\n",
      "                    Customer Preference  Restauraunt Offers\n",
      "Breakfast & Brunch             0.333333            0.084848\n",
      "Pizza                          0.333333            0.302145\n",
      "Italian                        0.333333            0.143638\n",
      "African                        0.000000            0.000000\n",
      "Popcorn                        0.000000            0.000000\n",
      "-------------\n",
      "pow pizza brentwood\n",
      "                    Customer Preference  Restauraunt Offers\n",
      "Breakfast & Brunch             0.333333            0.022055\n",
      "Pizza                          0.333333            0.321542\n",
      "Italian                        0.333333            0.450771\n",
      "African                        0.000000            0.000000\n",
      "Popcorn                        0.000000            0.000000\n",
      "-------------\n",
      "extreme pita\n",
      "                    Customer Preference  Restauraunt Offers\n",
      "Breakfast & Brunch             0.333333            0.004835\n",
      "Pizza                          0.333333            0.006515\n",
      "Italian                        0.333333            0.000000\n",
      "African                        0.000000            0.000000\n",
      "Popcorn                        0.000000            0.000000\n",
      "-------------\n",
      "pita pit\n",
      "                    Customer Preference  Restauraunt Offers\n",
      "Breakfast & Brunch             0.333333            0.001672\n",
      "Pizza                          0.333333            0.000000\n",
      "Italian                        0.333333            0.000000\n",
      "African                        0.000000            0.000000\n",
      "Popcorn                        0.000000            0.000000\n",
      "-------------\n"
     ]
    }
   ],
   "source": [
    "recommendations = recommend_pipeline()\n",
    "# Error that I got to fix, no repeats in top 3/bottom 2"
   ]
  }
 ],
 "metadata": {
  "colab": {
   "provenance": []
  },
  "kernelspec": {
   "display_name": "Python 3 (ipykernel)",
   "language": "python",
   "name": "python3"
  },
  "language_info": {
   "codemirror_mode": {
    "name": "ipython",
    "version": 3
   },
   "file_extension": ".py",
   "mimetype": "text/x-python",
   "name": "python",
   "nbconvert_exporter": "python",
   "pygments_lexer": "ipython3",
   "version": "3.9.7"
  }
 },
 "nbformat": 4,
 "nbformat_minor": 1
}
